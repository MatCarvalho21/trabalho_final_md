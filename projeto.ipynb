{
 "cells": [
  {
   "cell_type": "markdown",
   "metadata": {},
   "source": [
    "# TRABALHO FINAL DE MATEMÁTICA DISCRETA"
   ]
  },
  {
   "cell_type": "markdown",
   "metadata": {},
   "source": [
    "## PARTICIPANTES"
   ]
  },
  {
   "cell_type": "markdown",
   "metadata": {
    "tags": []
   },
   "source": [
    "- Leonardo Alexandre da Silva Ferreira - 2º Período - Ciência de Dados - 231708030;\n",
    "- Matheus Fillype Ferreira de Carvalho - 2º Período - Ciência de Dados - 231708017;\n",
    "- Sillas Rocha da Costa - 2º Período - Ciência de Dados - 231708014."
   ]
  },
  {
   "cell_type": "markdown",
   "metadata": {},
   "source": [
    "## INTRODUÇÃO:"
   ]
  },
  {
   "cell_type": "markdown",
   "metadata": {},
   "source": [
    "O trabalho tem como objetivo aplicar a teoria de grafos à dinâmica de aeroportos, conforme foi mencionado no relatório inicial que foi enviado. São dois os principais objetivos do projeto: o primeiro é criar um programa que possa desenvolver rotas aéreas complexas usando o algoritmo de Dijkstra; isto é, rotas que incluam mais de uma parada obrigatória. Dessa forma, o programa retornaria todo o 'plano de voo'. O segundo objetivo é identificar aeroportos cruciais, ou seja, aeroportos cuja remoção resultaria no maior número de componentes. Na prática, isso significaria encontrar os aeroportos que, caso deixassem de operar por algum motivo, tornariam inviável o acesso a diversos outros aeroportos."
   ]
  },
  {
   "cell_type": "markdown",
   "metadata": {},
   "source": [
    "## EXTRAINDO OS DADOS:"
   ]
  },
  {
   "cell_type": "markdown",
   "metadata": {},
   "source": [
    "Conseguir os dados para executar o projeto foi, de fato, complicado. Procuramos em sites como o [OpenFlights](https://openflights.org/#), que realmente possuem dados sobre as inúmeras linhas aéreas existentes no planeta. No entanto, o grande problema era extrair todos os dados de uma só vez, uma vez que não existia um mecanismo que possibilitasse o download de todas as informações de uma só vez.\n",
    "\n",
    "A solução encontrada foi uma base de dados presente no site [Kaggle](https://www.kaggle.com/datasets/open-flights/flight-route-database) com dados sobre linhas aéreas entre mais de 3 mil aeroportos em diversos países em janeiro de 2012. Obviamente, desde então, novos aeroportos foram criados e, consequentemente, novas conexões. Contudo, visto que o objetivo do trabalho é aplicar a teoria vista em aula para problemas da vida real, problemas práticos, acredito que a desatualização da base de dados não seja um problema.\n",
    "\n",
    "Uma vez com os dados em mãos, teríamos que tratá-los para que pudessem atender às nossas necessidades. Abaixo está o código usado para tratar a base de dados inicial e gerar duas bases de dados derivadas: uma apenas com aeroportos brasileiros e outra com todos. Em relação ao tratamento, um comentário relevante é que utilizamos, além da biblioteca `pandas`, a biblioteca de Python `airportsdata` para traduzir os dados, visto que a base inicial possui apenas o código IATA (International Air Transport Association) dos aeroportos, e precisaríamos de outros dados, como latitude e longitude, para calcular as distâncias entre eles, por exemplo."
   ]
  },
  {
   "cell_type": "code",
   "execution_count": 68,
   "metadata": {},
   "outputs": [
    {
     "name": "stdout",
     "output_type": "stream",
     "text": [
      "(36800, 24)\n"
     ]
    }
   ],
   "source": [
    "import pandas as pd  \n",
    "import airportsdata\n",
    "import numpy as np \n",
    "\n",
    "#lendo o dataframe\n",
    "dataframe_bruto = pd.read_csv(\"database/routes.csv\")\n",
    "\n",
    "#carregando dados da biblioteca\n",
    "dicionario_dos_aeroportos = airportsdata.load('IATA')\n",
    "\n",
    "#dados que vamos extrai da biblioteca que não existem no dataframe inicial\n",
    "lista_de_colunas = [\"route_id\", \"source_airport_icao\", \"source_airport_name\", \"source_airport_city\", \"source_airport_country\", \"source_airport_elevation\",\n",
    "                     \"source_airport_lat\", \"source_airport_lon\", \"destination_airport_icao\", \"destination_airport_name\", \"destination_airport_city\", \n",
    "                     \"destination_airport_country\", \"destination_airport_elevation\", \"destination_airport_lat\", \"destination_airport_lon\"]\n",
    "\n",
    "lista_de_origens = list(dataframe_bruto[\" source airport\"])\n",
    "lista_de_destinos = list(dataframe_bruto[\" destination apirport\"])\n",
    "lista_de_dados = list()\n",
    "\n",
    "#extraindo dados da biblioteca\n",
    "for cada_origem, cada_destino in zip(lista_de_origens, lista_de_destinos):\n",
    "    try:\n",
    "        lista_auxiliar = list()\n",
    "        lista_auxiliar.append(f\"{cada_origem}-{cada_destino}\")\n",
    "        lista_auxiliar.append(dicionario_dos_aeroportos[cada_origem][\"icao\"])\n",
    "        lista_auxiliar.append(dicionario_dos_aeroportos[cada_origem][\"name\"])\n",
    "        lista_auxiliar.append(dicionario_dos_aeroportos[cada_origem][\"city\"])\n",
    "        lista_auxiliar.append(dicionario_dos_aeroportos[cada_origem][\"country\"])\n",
    "        lista_auxiliar.append(dicionario_dos_aeroportos[cada_origem][\"elevation\"])\n",
    "        lista_auxiliar.append(dicionario_dos_aeroportos[cada_origem][\"lat\"])\n",
    "        lista_auxiliar.append(dicionario_dos_aeroportos[cada_origem][\"lon\"])\n",
    "        lista_auxiliar.append(dicionario_dos_aeroportos[cada_destino][\"icao\"])\n",
    "        lista_auxiliar.append(dicionario_dos_aeroportos[cada_destino][\"name\"])\n",
    "        lista_auxiliar.append(dicionario_dos_aeroportos[cada_destino][\"city\"])\n",
    "        lista_auxiliar.append(dicionario_dos_aeroportos[cada_destino][\"country\"])\n",
    "        lista_auxiliar.append(dicionario_dos_aeroportos[cada_destino][\"elevation\"])\n",
    "        lista_auxiliar.append(dicionario_dos_aeroportos[cada_destino][\"lat\"])\n",
    "        lista_auxiliar.append(dicionario_dos_aeroportos[cada_destino][\"lon\"])\n",
    "        lista_de_dados.append(lista_auxiliar)\n",
    "    except:\n",
    "        lista_de_dados.append(list())\n",
    "\n",
    "dataframe_filtrado = pd.DataFrame(data=lista_de_dados, columns=lista_de_colunas)\n",
    "dataframe_bruto[\"route_id\"] = dataframe_filtrado[\"route_id\"]\n",
    "\n",
    "#criando o dataframe final\n",
    "dataframe_final = pd.merge(dataframe_bruto, dataframe_filtrado, on='route_id', how='inner')\n",
    "dataframe_final = dataframe_final.dropna(thresh=2)\n",
    "dataframe_final = dataframe_final.groupby(\"route_id\", as_index=False).first().reset_index(drop=True)\n",
    "\n",
    "#filtrando para aeroportos brasileiros\n",
    "dataframe_final_brasil = dataframe_final[dataframe_final[\"source_airport_country\"] == \"BR\"].reset_index(drop=True)\n",
    "\n",
    "\"\"\" TRECHO PARA SALVAR AS NOVAS BASES DE DADOS\n",
    "dataframe_final.to_csv(\"database\\\\dataframe_final_mundo.csv\")\n",
    "dataframe_final_brasil.to_csv(\"database\\\\dataframe_final_brasil.csv\")\n",
    "\"\"\"\n",
    "\n",
    "print(dataframe_final.shape)"
   ]
  },
  {
   "cell_type": "markdown",
   "metadata": {},
   "source": [
    "## CÁLCULO DE ROTAS:"
   ]
  },
  {
   "cell_type": "markdown",
   "metadata": {},
   "source": [
    "Como foi exposto no documento enviado com os objetivos do trabalho, um dos nossos objetivos é desenvolver um programa com base no algoritmo de Dijkstra. Esse algoritmo é utilizado para encontrar o menor caminho entre dois vértices em um grafo dirigido, e no nosso caso, será utilizado para encontrar as rotas aéreas mais eficientes com base nas horas de voo.\n",
    "\n",
    "Obviamente, entre dois vértices, o uso do algoritmo seria relativamente simples. No entanto, a nossa aplicação visa encontrar as rotas mais eficientes em viagens complexas, que envolvem múltiplas paradas. Essas paradas devem estar ordenadas.\n",
    "\n",
    "No nosso modelo, os aeroportos são representados como vértices, e as rotas aéreas como arestas. Entretanto, em nossa base de dados, não possuímos informações sobre as durações dos voos. Como alternativa, optamos por utilizar latitude e longitude para calcular a distância aproximada entre eles. Posteriormente, calculamos a duração da viagem para um avião comercial médio.\n",
    "\n",
    "Segue abaixo o código utilizado para calcular a distância entre os aeroportos, levando em consideração a curvatura uniforme da Terra, e a duração aproximada dessas viagens:"
   ]
  },
  {
   "cell_type": "code",
   "execution_count": 69,
   "metadata": {},
   "outputs": [],
   "source": [
    "import math\n",
    "\n",
    "def cal_dist(lat_inicial:float, lon_inicial:float, lat_final:float, lon_final:float) -> float:\n",
    "    \"\"\"\n",
    "    \"\"\"\n",
    "    try:\n",
    "        dif_lat = math.radians(float(lat_final) - float(lat_inicial))\n",
    "        dif_lon = math.radians(float(lon_final) - float(lon_inicial))\n",
    "\n",
    "        raio_terra_km = 6370\n",
    "\n",
    "        #funções de haversine para distância esférica\n",
    "        hav_lat = math.sin(dif_lat/2)**2\n",
    "        hav_lon = math.sin(dif_lon/2)**2\n",
    "\n",
    "        cos_1 = math.cos(float(math.radians(lat_inicial)))\n",
    "        cos_2 = math.cos(float(math.radians(lat_final)))\n",
    "\n",
    "        dist_real = 2*raio_terra_km*math.asin(math.sqrt(hav_lat + cos_1 * cos_2 * hav_lon))\n",
    "\n",
    "        return round(dist_real, 3)\n",
    "    \n",
    "    except:\n",
    "        return None\n",
    "\n",
    "\n",
    "def cal_horas(dist_km:float) -> float:\n",
    "    \"\"\"\n",
    "    \"\"\"\n",
    "    try:\n",
    "        velociade_km_h = 850\n",
    "        tempo_horas = round(float(dist_km)/velociade_km_h, 3)\n",
    "\n",
    "        return tempo_horas\n",
    "    \n",
    "    except:\n",
    "        return None"
   ]
  },
  {
   "cell_type": "markdown",
   "metadata": {},
   "source": [
    "Definidas as funções, vamos agora aplicá-las linha a linha e salvar no nosso dataframe a distância entre os aeroportos em questão, ou seja, o comprimento da rota. Além disso, vamos adicionar ao dataframe a duração estimada da viagem com base na velocidade de um avião comercial médio, como foi mencionado anteriormente. Essa duração será representada no formato decimal, uma vez que esses dados serão utilizados exclusivamente para comparações e operações matemáticas relacionadas à aplicação do algoritmo de Dijkstra."
   ]
  },
  {
   "cell_type": "code",
   "execution_count": 70,
   "metadata": {},
   "outputs": [
    {
     "name": "stdout",
     "output_type": "stream",
     "text": [
      "(36800, 26)\n"
     ]
    }
   ],
   "source": [
    "lista_lat_inicial = list(dataframe_final[\"source_airport_lat\"])\n",
    "lista_lon_inicial = list(dataframe_final[\"source_airport_lon\"])\n",
    "lista_lat_final = list(dataframe_final[\"destination_airport_lat\"])\n",
    "lista_lon_final = list(dataframe_final[\"destination_airport_lon\"])\n",
    "\n",
    "lista_distancias = list()\n",
    "lista_tempo_de_viagem = list()\n",
    "for index in range(0, len(lista_lat_inicial)):\n",
    "\n",
    "    #extraindo os dados\n",
    "    lat_inicial = lista_lat_inicial[index]\n",
    "    lon_inicial = lista_lon_inicial[index]\n",
    "    lat_final = lista_lat_final[index]\n",
    "    lon_final = lista_lon_final[index]\n",
    "\n",
    "    #claculando a distância e o tempo\n",
    "    dist = cal_dist(lat_inicial, lon_inicial, lat_final, lon_final)\n",
    "    tempo = cal_horas(dist)\n",
    "\n",
    "    lista_distancias.append(dist)\n",
    "    lista_tempo_de_viagem.append(tempo)\n",
    "\n",
    "#criando as colunas com os novos dados \n",
    "dataframe_final[\"distancia\"] = lista_distancias\n",
    "dataframe_final[\"tempo_de_viagem\"] = lista_tempo_de_viagem\n",
    "\n",
    "#excluindo linhas, que por algum problema, não foi possível calcular ou a distância, ou o tempo de viagem\n",
    "dataframe_final = dataframe_final.dropna(thresh=2).reset_index(drop=True)\n",
    "\n",
    "print(dataframe_final.shape)"
   ]
  },
  {
   "cell_type": "markdown",
   "metadata": {},
   "source": [
    "Após inserir na nossa base de dados as informações necessárias, basta agora criar o programa que recebe o nome de cidades em ordem. Essas cidades devem ter aeroportos, e o programa retorna uma espécie de plano de voo buscando a menor rota entre cada aeroporto. Inicialmente, vamos converter o dataframe para o formato de \"grafo\", que é um dicionário para cada aeroporto, onde cada chave representa um aeroporto \"conectado\" a ele e o valor é a distância entre os dois. Abaixo está o código usado para construir o grafo, e no output, um exemplo de como é a estrutura do nosso grafo/dicionário."
   ]
  },
  {
   "cell_type": "code",
   "execution_count": 71,
   "metadata": {},
   "outputs": [
    {
     "name": "stdout",
     "output_type": "stream",
     "text": [
      "{}\n"
     ]
    }
   ],
   "source": [
    "grafo_com_pesos = dict()\n",
    "\n",
    "#criando lista com todos os aeroportos\n",
    "aeroportos_destino = set(dataframe_final[\" destination apirport\"])\n",
    "aeroportos_origem = set(dataframe_final[\" source airport\"])\n",
    "\n",
    "#criando os dicionário referente a cada aeroporto\n",
    "for cada_aeroporto in aeroportos_origem.union(aeroportos_destino):\n",
    "    grafo_com_pesos[cada_aeroporto] = dict()\n",
    "\n",
    "#atribuindo nos dicionários de cada aeroporto dos os dicionários adjacentes e suas respectivas distâncias\n",
    "for cada_aeroporto in aeroportos_destino:\n",
    "    dataframe_rotas_dest = dataframe_final[dataframe_final[\" source airport\"] == cada_aeroporto]\n",
    "    lista_de_destinos = list(dataframe_rotas_dest[\" destination apirport\"])\n",
    "    lista_de_distancias = list(dataframe_rotas_dest[\"distancia\"])\n",
    "\n",
    "    for cada_destino, cada_distancia in zip(lista_de_destinos, lista_de_distancias):\n",
    "        grafo_com_pesos[cada_aeroporto][cada_destino] = cada_distancia\n",
    "\n",
    "for cada_aeroporto in aeroportos_origem:\n",
    "    dataframe_rotas_ori = dataframe_final[dataframe_final[\" destination apirport\"] == cada_aeroporto]\n",
    "    lista_de_destinos = list(dataframe_rotas_ori[\" source airport\"])\n",
    "    lista_de_distancias = list(dataframe_rotas_ori[\"distancia\"])\n",
    "\n",
    "    for cada_destino, cada_distancia in zip(lista_de_destinos, lista_de_distancias):\n",
    "        grafo_com_pesos[cada_aeroporto][cada_destino] = cada_distancia\n",
    "\n",
    "#deletando eventuais dicionários vazios\n",
    "grafo_final = grafo_com_pesos.copy()\n",
    "\"\"\"\n",
    "for cada_chave, cada_aeroporto in grafo_com_pesos.items():\n",
    "    if len(cada_aeroporto) == 0:\n",
    "        del grafo_final[cada_chave]\n",
    "\"\"\"\n",
    "print(grafo_final[\"STZ\"])"
   ]
  },
  {
   "cell_type": "code",
   "execution_count": 72,
   "metadata": {},
   "outputs": [
    {
     "name": "stdout",
     "output_type": "stream",
     "text": [
      "('-CNF-LIS-DUB-', 9080.153)\n"
     ]
    }
   ],
   "source": [
    "def dijkstra(origem:str, destino:str) -> tuple: \n",
    "    \"\"\"\n",
    "    \"\"\"\n",
    "    \n",
    "    grafo_genérico = grafo_final\n",
    "\n",
    "    dict_caminhos = dict()\n",
    "\n",
    "    dict_distancias = dict()\n",
    "    for cada_chave in grafo_genérico.keys():\n",
    "        dict_distancias[cada_chave] = np.inf\n",
    "        dict_caminhos[cada_chave] = \"\"\n",
    "\n",
    "    lista_vertices_visitados = list()\n",
    "\n",
    "    dict_distancias[origem] = 0\n",
    "    vertice_da_vez = origem\n",
    "\n",
    "    while True:\n",
    "        lista_vertices_visitados.append(vertice_da_vez)\n",
    "\n",
    "        for cada_conexao_da_vez, cada_peso_da_vez in grafo_genérico[vertice_da_vez].items():\n",
    "            if cada_conexao_da_vez in lista_vertices_visitados:\n",
    "                continue\n",
    "            else:\n",
    "                if dict_distancias[cada_conexao_da_vez] > cada_peso_da_vez + dict_distancias[vertice_da_vez]:\n",
    "                    dict_distancias[cada_conexao_da_vez] = cada_peso_da_vez + dict_distancias[vertice_da_vez]\n",
    "                    dict_caminhos[cada_conexao_da_vez] = dict_caminhos[vertice_da_vez] + \"-\" + vertice_da_vez\n",
    "\n",
    "\n",
    "        menor_dist = np.inf\n",
    "        for cada_chave in set(dict_distancias.keys()).union(set(lista_vertices_visitados)) - set(dict_distancias.keys()).intersection(set(lista_vertices_visitados)):\n",
    "            if dict_distancias[cada_chave] < menor_dist:\n",
    "                menor_dist = dict_distancias[cada_chave]\n",
    "                vertice_da_vez = cada_chave\n",
    "\n",
    "        if vertice_da_vez == destino:\n",
    "            dict_caminhos[destino] = dict_caminhos[destino] + \"-\" + destino + \"-\"\n",
    "            break\n",
    "\n",
    "    return dict_caminhos[destino], dict_distancias[destino]\n",
    "\n",
    "print(dijkstra(\"CNF\", \"DUB\"))"
   ]
  },
  {
   "cell_type": "code",
   "execution_count": 75,
   "metadata": {},
   "outputs": [
    {
     "name": "stdout",
     "output_type": "stream",
     "text": [
      "('-GRU-OPO-DUB--DUB-BOS-MIA--MIA-CNF--CNF-GRU-', 23264.096)\n"
     ]
    }
   ],
   "source": [
    "lista_geral = [\"GRU\", \"DUB\", \"MIA\", \"CNF\"]\n",
    "\n",
    "def rota_completa(lista_de_destinos:str) -> tuple:\n",
    "    \"\"\"\n",
    "    \"\"\"\n",
    "    distancia_total = 0\n",
    "    caminho_total = \"\"\n",
    "\n",
    "    for indice in range(0, len(lista_de_destinos)):\n",
    "        if indice == len(lista_de_destinos) - 1:\n",
    "            caminho_auxiliar, distancia_auxiliar = dijkstra(lista_de_destinos[indice], lista_de_destinos[0])\n",
    "            caminho_total += caminho_auxiliar\n",
    "            distancia_total += distancia_auxiliar\n",
    "\n",
    "        else:\n",
    "            caminho_auxiliar, distancia_auxiliar = dijkstra(lista_de_destinos[indice], lista_de_destinos[indice + 1])\n",
    "            caminho_total += caminho_auxiliar\n",
    "            distancia_total += distancia_auxiliar\n",
    "\n",
    "    return caminho_total, round(distancia_total, 3)\n",
    "\n",
    "print(rota_completa(lista_geral))"
   ]
  },
  {
   "cell_type": "code",
   "execution_count": null,
   "metadata": {},
   "outputs": [
    {
     "name": "stdout",
     "output_type": "stream",
     "text": [
      "destination_airport_name\n",
      "Tokyo International Airport                14\n",
      "El Dorado International Airport            14\n",
      "Denver International Airport               14\n",
      "Jorge Newbery Airpark                      13\n",
      "Ninoy Aquino International Airport         13\n",
      "Don Mueang International Airport           12\n",
      "Jorge Chavez International Airport         11\n",
      "Mehrabad International Airport             11\n",
      "Dallas-Fort Worth International Airport    11\n",
      "Domodedovo International Airport           11\n",
      "Name: count, dtype: int64\n"
     ]
    }
   ],
   "source": [
    "dataframe  = pd.read_csv(\"database/dataframe_final_mundo.csv\", low_memory=False)\n",
    "contagem = dataframe[\"source_airport_name\"].value_counts()\n",
    "dataframe = dataframe[dataframe['source_airport_name'].map(contagem) == 1].reset_index(drop=True)\n",
    "dataframe_filtrado = dataframe[\"destination_airport_name\"].value_counts().head(10)\n",
    "print(dataframe_filtrado)"
   ]
  },
  {
   "cell_type": "code",
   "execution_count": null,
   "metadata": {},
   "outputs": [
    {
     "name": "stdout",
     "output_type": "stream",
     "text": [
      "destination_airport_name\n",
      "Frankfurt am Main International Airport               237\n",
      "Charles de Gaulle International Airport               233\n",
      "Amsterdam Airport Schiphol                            230\n",
      "Istanbul Airport                                      225\n",
      "Hartsfield - Jackson Atlanta International Airport    216\n",
      "Chicago O'Hare International Airport                  203\n",
      "Beijing Capital International Airport                 198\n",
      "Munich International Airport                          189\n",
      "Domodedovo International Airport                      187\n",
      "Dallas-Fort Worth International Airport               185\n",
      "Name: count, dtype: int64\n"
     ]
    }
   ],
   "source": [
    "top_10_destino = dataframe_final[\"destination_airport_name\"].value_counts().head(10)\n",
    "print(top_10_destino)"
   ]
  }
 ],
 "metadata": {
  "kernelspec": {
   "display_name": "Python 3 (ipykernel)",
   "language": "python",
   "name": "python3"
  },
  "language_info": {
   "codemirror_mode": {
    "name": "ipython",
    "version": 3
   },
   "file_extension": ".py",
   "mimetype": "text/x-python",
   "name": "python",
   "nbconvert_exporter": "python",
   "pygments_lexer": "ipython3",
   "version": "3.10.12"
  }
 },
 "nbformat": 4,
 "nbformat_minor": 4
}
