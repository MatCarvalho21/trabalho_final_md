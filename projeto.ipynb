{
 "cells": [
  {
   "cell_type": "markdown",
   "metadata": {},
   "source": [
    "# TRABALHO FINAL DE MATEMÁTICA DISCRETA"
   ]
  },
  {
   "cell_type": "markdown",
   "metadata": {},
   "source": [
    "## INTRODUÇÃO:"
   ]
  },
  {
   "cell_type": "markdown",
   "metadata": {},
   "source": [
    "<<<<<< INTRO >>>>>>"
   ]
  },
  {
   "cell_type": "markdown",
   "metadata": {},
   "source": [
    "## EXTRAINDO OS DADOS:"
   ]
  },
  {
   "cell_type": "markdown",
   "metadata": {},
   "source": [
    "Conseguir os dados para executar o projeto foi de fato complicado. Procuranmos em sites como o [OpenFlights](https://openflights.org/#), que realmente possuem dados sobre as inúmeras linhas aéreas existentes no planeta, porpem o grande problema era extrair os dados todos de uma vez, não existia um mecanismo que possibilitasse o download de todos os dados de uma só vez. \n",
    "\n",
    "A solução encontrada foi uma base de dados presente no site [Kaggle](https://www.kaggle.com/datasets/open-flights/flight-route-database) com dados sobre linhas aéreas entre mais de 3 mil aeroportos em diversos países em janeiro de 2012. Obviamente, desde de então, novos aeroportos foram criados e, por consequência, novas conexões. Contudo, visto que o objetivo do trabalho é aplicar a teoria vista em aula para problemas da vida real, problemas práticos, acredito que a desatualização da base de dados não seja um problema.\n",
    "\n",
    "Um vez com os dados em mãos, teríamos que tratá-los para que pudessem atender as nossas necessidades. Segue abaixo o código usado para tratar a base de dados inicial e gerar duas bases de dados derivadas: uma apenas com aeroportos do brasileiros e outra com todos. Sobre o tratamento, um comentário relrevante é de que usamos, além da bibliotaca `pandas`, a biblioteca de python `airportsdata` para traduzir os dados, visto que a base inicial possui apenas o código IATA (International Air Transport Association) dos aeroportos e iriamos precisar de outros dados, como latitude e longitude para calcular as distâncias entre eles, por exemplo. "
   ]
  },
  {
   "cell_type": "code",
   "execution_count": 61,
   "metadata": {},
   "outputs": [
    {
     "name": "stdout",
     "output_type": "stream",
     "text": [
      "(36800, 24)\n"
     ]
    }
   ],
   "source": [
    "import pandas as pd  \n",
    "import airportsdata\n",
    "\n",
    "#lendo o dataframe\n",
    "dataframe_bruto = pd.read_csv(\"database\\\\routes.csv\")\n",
    "\n",
    "#carregando dados da biblioteca\n",
    "dicionario_dos_aeroportos = airportsdata.load('IATA')\n",
    "\n",
    "#dados que vamos extrai da biblioteca que não existem no dataframe inicial\n",
    "lista_de_colunas = [\"route_id\", \"source_airport_icao\", \"source_airport_name\", \"source_airport_city\", \"source_airport_country\", \"source_airport_elevation\",\n",
    "                     \"source_airport_lat\", \"source_airport_lon\", \"destination_airport_icao\", \"destination_airport_name\", \"destination_airport_city\", \n",
    "                     \"destination_airport_country\", \"destination_airport_elevation\", \"destination_airport_lat\", \"destination_airport_lon\"]\n",
    "\n",
    "lista_de_origens = list(dataframe_bruto[\" source airport\"])\n",
    "lista_de_destinos = list(dataframe_bruto[\" destination apirport\"])\n",
    "lista_de_dados = list()\n",
    "\n",
    "#extraindo dados da biblioteca\n",
    "for cada_origem, cada_destino in zip(lista_de_origens, lista_de_destinos):\n",
    "    try:\n",
    "        lista_auxiliar = list()\n",
    "        lista_auxiliar.append(f\"{cada_origem}-{cada_destino}\")\n",
    "        lista_auxiliar.append(dicionario_dos_aeroportos[cada_origem][\"icao\"])\n",
    "        lista_auxiliar.append(dicionario_dos_aeroportos[cada_origem][\"name\"])\n",
    "        lista_auxiliar.append(dicionario_dos_aeroportos[cada_origem][\"city\"])\n",
    "        lista_auxiliar.append(dicionario_dos_aeroportos[cada_origem][\"country\"])\n",
    "        lista_auxiliar.append(dicionario_dos_aeroportos[cada_origem][\"elevation\"])\n",
    "        lista_auxiliar.append(dicionario_dos_aeroportos[cada_origem][\"lat\"])\n",
    "        lista_auxiliar.append(dicionario_dos_aeroportos[cada_origem][\"lon\"])\n",
    "        lista_auxiliar.append(dicionario_dos_aeroportos[cada_destino][\"icao\"])\n",
    "        lista_auxiliar.append(dicionario_dos_aeroportos[cada_destino][\"name\"])\n",
    "        lista_auxiliar.append(dicionario_dos_aeroportos[cada_destino][\"city\"])\n",
    "        lista_auxiliar.append(dicionario_dos_aeroportos[cada_destino][\"country\"])\n",
    "        lista_auxiliar.append(dicionario_dos_aeroportos[cada_destino][\"elevation\"])\n",
    "        lista_auxiliar.append(dicionario_dos_aeroportos[cada_destino][\"lat\"])\n",
    "        lista_auxiliar.append(dicionario_dos_aeroportos[cada_destino][\"lon\"])\n",
    "        lista_de_dados.append(lista_auxiliar)\n",
    "    except:\n",
    "        lista_de_dados.append(list())\n",
    "\n",
    "dataframe_filtrado = pd.DataFrame(data=lista_de_dados, columns=lista_de_colunas)\n",
    "dataframe_bruto[\"route_id\"] = dataframe_filtrado[\"route_id\"]\n",
    "\n",
    "#criando o dataframe final\n",
    "dataframe_final = pd.merge(dataframe_bruto, dataframe_filtrado, on='route_id', how='inner')\n",
    "dataframe_final = dataframe_final.dropna(thresh=2)\n",
    "dataframe_final = dataframe_final.groupby(\"route_id\", as_index=False).first().reset_index(drop=True)\n",
    "\n",
    "#filtrando para aeroportos brasileiros\n",
    "dataframe_final_brasil = dataframe_final[dataframe_final[\"source_airport_country\"] == \"BR\"].reset_index(drop=True)\n",
    "\n",
    "\"\"\" TRECHO PARA SALVAR AS NOVAS BASES DE DADOS\n",
    "dataframe_final.to_csv(\"database\\\\dataframe_final_mundo.csv\")\n",
    "dataframe_final_brasil.to_csv(\"database\\\\dataframe_final_brasil.csv\")\n",
    "\"\"\"\n",
    "\n",
    "print(dataframe_final.shape)"
   ]
  },
  {
   "cell_type": "markdown",
   "metadata": {},
   "source": [
    "## CÁLCULO DE ROTAS:"
   ]
  },
  {
   "cell_type": "markdown",
   "metadata": {},
   "source": [
    "Como foi exposto do documento enviado com os objetivos do trabalho, um dos nossos objetivos é desenvolver um programa, que tem como base o algorítimo de Dijskra, que é usado para encontrar o menor caminho entre dois vértices em um gráfico dirigido, para encontrar as rotas aéreas mais eficientes com base em horas de voos. Obviamente, entre dois vértices seria extremamente simples, por isso a nossa aplicação vai encontrar a rota mais enficiênte em viagens complexas, que possuem multiplas paradas, paradas essas que devem estar ordenadas. \n",
    "\n",
    "No nosso modelo, os aeroportos seriam os vértices e as rotas aéreas as arestas. Porém, na nossa base não temos informações sobre as durações dos voos, mas como alternativa vamos utilizar de latitude e longitude para calcular a distância aproximada entre eles e, após isso, calcular a duração da viagem para um avião comercial médio. Segue abaixo o código utilizado para calcular a distância entre os aeroportos, levando em consideração uma curvatura uniforme da Terra, e a duração aproximada dessas viagens. "
   ]
  },
  {
   "cell_type": "code",
   "execution_count": 62,
   "metadata": {},
   "outputs": [],
   "source": [
    "import math\n",
    "\n",
    "def cal_dist(lat_inicial:float, lon_inicial:float, lat_final:float, lon_final:float) -> float:\n",
    "    \"\"\"\n",
    "    \"\"\"\n",
    "    try:\n",
    "        dif_lat = math.radians(float(lat_final) - float(lat_inicial))\n",
    "        dif_lon = math.radians(float(lon_final) - float(lon_inicial))\n",
    "\n",
    "        raio_terra_km = 6370\n",
    "\n",
    "        #funções de haversine para distância esférica\n",
    "        hav_lat = math.sin(dif_lat/2)**2\n",
    "        hav_lon = math.sin(dif_lon/2)**2\n",
    "\n",
    "        cos_1 = math.cos(float(math.radians(lat_inicial)))\n",
    "        cos_2 = math.cos(float(math.radians(lat_final)))\n",
    "\n",
    "        dist_real = 2*raio_terra_km*math.asin(math.sqrt(hav_lat + cos_1 * cos_2 * hav_lon))\n",
    "\n",
    "        return round(dist_real, 3)\n",
    "    \n",
    "    except:\n",
    "        return None\n",
    "\n",
    "\n",
    "def cal_horas(dist_km:float) -> float:\n",
    "    \"\"\"\n",
    "    \"\"\"\n",
    "    try:\n",
    "        velociade_km_h = 850\n",
    "        tempo_horas = round(float(dist_km)/velociade_km_h, 3)\n",
    "\n",
    "        return tempo_horas\n",
    "    \n",
    "    except:\n",
    "        return None"
   ]
  },
  {
   "cell_type": "markdown",
   "metadata": {},
   "source": [
    "Definidas as funções, vamos agora aplicá-las linha a linha e salvar no nosso dataframe a distância entre os aeroportos em questão, ou seja, o comprimento da rota. Além disso, vamos adicionar ao dataframe a duração estimada da viagem com base na velociade de um avião comercial médio, como foi dito anteriormente, e no formato decimal, visto que só usaremos esses dados para fazer comparações e operações matemáticas relacionadas à aplicação do algorítimo de Disjkra. "
   ]
  },
  {
   "cell_type": "code",
   "execution_count": 63,
   "metadata": {},
   "outputs": [
    {
     "name": "stdout",
     "output_type": "stream",
     "text": [
      "(36800, 26)\n"
     ]
    }
   ],
   "source": [
    "lista_lat_inicial = list(dataframe_final[\"source_airport_lat\"])\n",
    "lista_lon_inicial = list(dataframe_final[\"source_airport_lon\"])\n",
    "lista_lat_final = list(dataframe_final[\"destination_airport_lat\"])\n",
    "lista_lon_final = list(dataframe_final[\"destination_airport_lon\"])\n",
    "\n",
    "lista_distancias = list()\n",
    "lista_tempo_de_viagem = list()\n",
    "for index in range(0, len(lista_lat_inicial)):\n",
    "\n",
    "    #extraindo os dados\n",
    "    lat_inicial = lista_lat_inicial[index]\n",
    "    lon_inicial = lista_lon_inicial[index]\n",
    "    lat_final = lista_lat_final[index]\n",
    "    lon_final = lista_lon_final[index]\n",
    "\n",
    "    #claculando a distância e o tempo\n",
    "    dist = cal_dist(lat_inicial, lon_inicial, lat_final, lon_final)\n",
    "    tempo = cal_horas(dist)\n",
    "\n",
    "    lista_distancias.append(dist)\n",
    "    lista_tempo_de_viagem.append(tempo)\n",
    "\n",
    "#criando as colunas com os novos dados \n",
    "dataframe_final[\"distancia\"] = lista_distancias\n",
    "dataframe_final[\"tempo_de_viagem\"] = lista_tempo_de_viagem\n",
    "\n",
    "#excluindo linhas, que por algum problema, não foi possível calcular ou a distância, ou o tempo de viagem\n",
    "dataframe_final = dataframe_final.dropna(thresh=2).reset_index(drop=True)\n",
    "\n",
    "print(dataframe_final.shape)"
   ]
  },
  {
   "cell_type": "markdown",
   "metadata": {},
   "source": [
    "Após inserir na nossa base de dados as informações necessárias, basta agora criar o programa que recebe nome de cidades em ordem, cidades essas que devem ter aeroportos, e retorna uma espécie de plano de voo buscando a menor rota entre cada aeroporto. "
   ]
  }
 ],
 "metadata": {
  "kernelspec": {
   "display_name": "Python 3",
   "language": "python",
   "name": "python3"
  },
  "language_info": {
   "codemirror_mode": {
    "name": "ipython",
    "version": 3
   },
   "file_extension": ".py",
   "mimetype": "text/x-python",
   "name": "python",
   "nbconvert_exporter": "python",
   "pygments_lexer": "ipython3",
   "version": "3.11.2"
  }
 },
 "nbformat": 4,
 "nbformat_minor": 2
}
